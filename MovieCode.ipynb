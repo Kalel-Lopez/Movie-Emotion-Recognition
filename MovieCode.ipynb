{
  "nbformat": 4,
  "nbformat_minor": 0,
  "metadata": {
    "colab": {
      "name": "MovieCode.ipynb",
      "provenance": [],
      "collapsed_sections": []
    },
    "kernelspec": {
      "name": "python3",
      "display_name": "Python 3"
    },
    "language_info": {
      "name": "python"
    }
  },
  "cells": [
    {
      "cell_type": "code",
      "execution_count": null,
      "metadata": {
        "colab": {
          "base_uri": "https://localhost:8080/"
        },
        "id": "BVqctzexnMla",
        "outputId": "d015d475-166b-418d-a2b2-547c0d706e7f"
      },
      "outputs": [
        {
          "output_type": "stream",
          "name": "stdout",
          "text": [
            "Collecting deepface\n",
            "  Downloading deepface-0.0.75-py3-none-any.whl (65 kB)\n",
            "\u001b[K     |████████████████████████████████| 65 kB 2.1 MB/s \n",
            "\u001b[?25hRequirement already satisfied: numpy>=1.14.0 in /usr/local/lib/python3.7/dist-packages (from deepface) (1.21.6)\n",
            "Collecting mtcnn>=0.1.0\n",
            "  Downloading mtcnn-0.1.1-py3-none-any.whl (2.3 MB)\n",
            "\u001b[K     |████████████████████████████████| 2.3 MB 13.5 MB/s \n",
            "\u001b[?25hRequirement already satisfied: Flask>=1.1.2 in /usr/local/lib/python3.7/dist-packages (from deepface) (1.1.4)\n",
            "Requirement already satisfied: keras>=2.2.0 in /usr/local/lib/python3.7/dist-packages (from deepface) (2.8.0)\n",
            "Collecting fire>=0.4.0\n",
            "  Downloading fire-0.4.0.tar.gz (87 kB)\n",
            "\u001b[K     |████████████████████████████████| 87 kB 6.1 MB/s \n",
            "\u001b[?25hRequirement already satisfied: gdown>=3.10.1 in /usr/local/lib/python3.7/dist-packages (from deepface) (4.4.0)\n",
            "Requirement already satisfied: Pillow>=5.2.0 in /usr/local/lib/python3.7/dist-packages (from deepface) (7.1.2)\n",
            "Requirement already satisfied: tqdm>=4.30.0 in /usr/local/lib/python3.7/dist-packages (from deepface) (4.64.0)\n",
            "Requirement already satisfied: pandas>=0.23.4 in /usr/local/lib/python3.7/dist-packages (from deepface) (1.3.5)\n",
            "Collecting opencv-python>=4.5.5.64\n",
            "  Downloading opencv_python-4.5.5.64-cp36-abi3-manylinux_2_17_x86_64.manylinux2014_x86_64.whl (60.5 MB)\n",
            "\u001b[K     |████████████████████████████████| 60.5 MB 1.1 MB/s \n",
            "\u001b[?25hCollecting retina-face>=0.0.1\n",
            "  Downloading retina_face-0.0.10-py3-none-any.whl (15 kB)\n",
            "Requirement already satisfied: tensorflow>=1.9.0 in /usr/local/lib/python3.7/dist-packages (from deepface) (2.8.0)\n",
            "Requirement already satisfied: six in /usr/local/lib/python3.7/dist-packages (from fire>=0.4.0->deepface) (1.15.0)\n",
            "Requirement already satisfied: termcolor in /usr/local/lib/python3.7/dist-packages (from fire>=0.4.0->deepface) (1.1.0)\n",
            "Requirement already satisfied: click<8.0,>=5.1 in /usr/local/lib/python3.7/dist-packages (from Flask>=1.1.2->deepface) (7.1.2)\n",
            "Requirement already satisfied: itsdangerous<2.0,>=0.24 in /usr/local/lib/python3.7/dist-packages (from Flask>=1.1.2->deepface) (1.1.0)\n",
            "Requirement already satisfied: Jinja2<3.0,>=2.10.1 in /usr/local/lib/python3.7/dist-packages (from Flask>=1.1.2->deepface) (2.11.3)\n",
            "Requirement already satisfied: Werkzeug<2.0,>=0.15 in /usr/local/lib/python3.7/dist-packages (from Flask>=1.1.2->deepface) (1.0.1)\n",
            "Requirement already satisfied: requests[socks] in /usr/local/lib/python3.7/dist-packages (from gdown>=3.10.1->deepface) (2.23.0)\n",
            "Requirement already satisfied: beautifulsoup4 in /usr/local/lib/python3.7/dist-packages (from gdown>=3.10.1->deepface) (4.6.3)\n",
            "Requirement already satisfied: filelock in /usr/local/lib/python3.7/dist-packages (from gdown>=3.10.1->deepface) (3.6.0)\n",
            "Requirement already satisfied: MarkupSafe>=0.23 in /usr/local/lib/python3.7/dist-packages (from Jinja2<3.0,>=2.10.1->Flask>=1.1.2->deepface) (2.0.1)\n",
            "Requirement already satisfied: python-dateutil>=2.7.3 in /usr/local/lib/python3.7/dist-packages (from pandas>=0.23.4->deepface) (2.8.2)\n",
            "Requirement already satisfied: pytz>=2017.3 in /usr/local/lib/python3.7/dist-packages (from pandas>=0.23.4->deepface) (2022.1)\n",
            "Requirement already satisfied: tensorflow-io-gcs-filesystem>=0.23.1 in /usr/local/lib/python3.7/dist-packages (from tensorflow>=1.9.0->deepface) (0.25.0)\n",
            "Requirement already satisfied: tensorboard<2.9,>=2.8 in /usr/local/lib/python3.7/dist-packages (from tensorflow>=1.9.0->deepface) (2.8.0)\n",
            "Requirement already satisfied: opt-einsum>=2.3.2 in /usr/local/lib/python3.7/dist-packages (from tensorflow>=1.9.0->deepface) (3.3.0)\n",
            "Requirement already satisfied: flatbuffers>=1.12 in /usr/local/lib/python3.7/dist-packages (from tensorflow>=1.9.0->deepface) (2.0)\n",
            "Collecting tf-estimator-nightly==2.8.0.dev2021122109\n",
            "  Downloading tf_estimator_nightly-2.8.0.dev2021122109-py2.py3-none-any.whl (462 kB)\n",
            "\u001b[K     |████████████████████████████████| 462 kB 51.1 MB/s \n",
            "\u001b[?25hRequirement already satisfied: gast>=0.2.1 in /usr/local/lib/python3.7/dist-packages (from tensorflow>=1.9.0->deepface) (0.5.3)\n",
            "Requirement already satisfied: setuptools in /usr/local/lib/python3.7/dist-packages (from tensorflow>=1.9.0->deepface) (57.4.0)\n",
            "Requirement already satisfied: h5py>=2.9.0 in /usr/local/lib/python3.7/dist-packages (from tensorflow>=1.9.0->deepface) (3.1.0)\n",
            "Requirement already satisfied: google-pasta>=0.1.1 in /usr/local/lib/python3.7/dist-packages (from tensorflow>=1.9.0->deepface) (0.2.0)\n",
            "Requirement already satisfied: grpcio<2.0,>=1.24.3 in /usr/local/lib/python3.7/dist-packages (from tensorflow>=1.9.0->deepface) (1.44.0)\n",
            "Requirement already satisfied: typing-extensions>=3.6.6 in /usr/local/lib/python3.7/dist-packages (from tensorflow>=1.9.0->deepface) (4.2.0)\n",
            "Requirement already satisfied: libclang>=9.0.1 in /usr/local/lib/python3.7/dist-packages (from tensorflow>=1.9.0->deepface) (14.0.1)\n",
            "Requirement already satisfied: protobuf>=3.9.2 in /usr/local/lib/python3.7/dist-packages (from tensorflow>=1.9.0->deepface) (3.17.3)\n",
            "Requirement already satisfied: absl-py>=0.4.0 in /usr/local/lib/python3.7/dist-packages (from tensorflow>=1.9.0->deepface) (1.0.0)\n",
            "Requirement already satisfied: keras-preprocessing>=1.1.1 in /usr/local/lib/python3.7/dist-packages (from tensorflow>=1.9.0->deepface) (1.1.2)\n",
            "Requirement already satisfied: astunparse>=1.6.0 in /usr/local/lib/python3.7/dist-packages (from tensorflow>=1.9.0->deepface) (1.6.3)\n",
            "Requirement already satisfied: wrapt>=1.11.0 in /usr/local/lib/python3.7/dist-packages (from tensorflow>=1.9.0->deepface) (1.14.0)\n",
            "Requirement already satisfied: wheel<1.0,>=0.23.0 in /usr/local/lib/python3.7/dist-packages (from astunparse>=1.6.0->tensorflow>=1.9.0->deepface) (0.37.1)\n",
            "Requirement already satisfied: cached-property in /usr/local/lib/python3.7/dist-packages (from h5py>=2.9.0->tensorflow>=1.9.0->deepface) (1.5.2)\n",
            "Requirement already satisfied: google-auth-oauthlib<0.5,>=0.4.1 in /usr/local/lib/python3.7/dist-packages (from tensorboard<2.9,>=2.8->tensorflow>=1.9.0->deepface) (0.4.6)\n",
            "Requirement already satisfied: tensorboard-data-server<0.7.0,>=0.6.0 in /usr/local/lib/python3.7/dist-packages (from tensorboard<2.9,>=2.8->tensorflow>=1.9.0->deepface) (0.6.1)\n",
            "Requirement already satisfied: tensorboard-plugin-wit>=1.6.0 in /usr/local/lib/python3.7/dist-packages (from tensorboard<2.9,>=2.8->tensorflow>=1.9.0->deepface) (1.8.1)\n",
            "Requirement already satisfied: google-auth<3,>=1.6.3 in /usr/local/lib/python3.7/dist-packages (from tensorboard<2.9,>=2.8->tensorflow>=1.9.0->deepface) (1.35.0)\n",
            "Requirement already satisfied: markdown>=2.6.8 in /usr/local/lib/python3.7/dist-packages (from tensorboard<2.9,>=2.8->tensorflow>=1.9.0->deepface) (3.3.6)\n",
            "Requirement already satisfied: pyasn1-modules>=0.2.1 in /usr/local/lib/python3.7/dist-packages (from google-auth<3,>=1.6.3->tensorboard<2.9,>=2.8->tensorflow>=1.9.0->deepface) (0.2.8)\n",
            "Requirement already satisfied: rsa<5,>=3.1.4 in /usr/local/lib/python3.7/dist-packages (from google-auth<3,>=1.6.3->tensorboard<2.9,>=2.8->tensorflow>=1.9.0->deepface) (4.8)\n",
            "Requirement already satisfied: cachetools<5.0,>=2.0.0 in /usr/local/lib/python3.7/dist-packages (from google-auth<3,>=1.6.3->tensorboard<2.9,>=2.8->tensorflow>=1.9.0->deepface) (4.2.4)\n",
            "Requirement already satisfied: requests-oauthlib>=0.7.0 in /usr/local/lib/python3.7/dist-packages (from google-auth-oauthlib<0.5,>=0.4.1->tensorboard<2.9,>=2.8->tensorflow>=1.9.0->deepface) (1.3.1)\n",
            "Requirement already satisfied: importlib-metadata>=4.4 in /usr/local/lib/python3.7/dist-packages (from markdown>=2.6.8->tensorboard<2.9,>=2.8->tensorflow>=1.9.0->deepface) (4.11.3)\n",
            "Requirement already satisfied: zipp>=0.5 in /usr/local/lib/python3.7/dist-packages (from importlib-metadata>=4.4->markdown>=2.6.8->tensorboard<2.9,>=2.8->tensorflow>=1.9.0->deepface) (3.8.0)\n",
            "Requirement already satisfied: pyasn1<0.5.0,>=0.4.6 in /usr/local/lib/python3.7/dist-packages (from pyasn1-modules>=0.2.1->google-auth<3,>=1.6.3->tensorboard<2.9,>=2.8->tensorflow>=1.9.0->deepface) (0.4.8)\n",
            "Requirement already satisfied: idna<3,>=2.5 in /usr/local/lib/python3.7/dist-packages (from requests[socks]->gdown>=3.10.1->deepface) (2.10)\n",
            "Requirement already satisfied: urllib3!=1.25.0,!=1.25.1,<1.26,>=1.21.1 in /usr/local/lib/python3.7/dist-packages (from requests[socks]->gdown>=3.10.1->deepface) (1.24.3)\n",
            "Requirement already satisfied: chardet<4,>=3.0.2 in /usr/local/lib/python3.7/dist-packages (from requests[socks]->gdown>=3.10.1->deepface) (3.0.4)\n",
            "Requirement already satisfied: certifi>=2017.4.17 in /usr/local/lib/python3.7/dist-packages (from requests[socks]->gdown>=3.10.1->deepface) (2021.10.8)\n",
            "Requirement already satisfied: oauthlib>=3.0.0 in /usr/local/lib/python3.7/dist-packages (from requests-oauthlib>=0.7.0->google-auth-oauthlib<0.5,>=0.4.1->tensorboard<2.9,>=2.8->tensorflow>=1.9.0->deepface) (3.2.0)\n",
            "Requirement already satisfied: PySocks!=1.5.7,>=1.5.6 in /usr/local/lib/python3.7/dist-packages (from requests[socks]->gdown>=3.10.1->deepface) (1.7.1)\n",
            "Building wheels for collected packages: fire\n",
            "  Building wheel for fire (setup.py) ... \u001b[?25l\u001b[?25hdone\n",
            "  Created wheel for fire: filename=fire-0.4.0-py2.py3-none-any.whl size=115942 sha256=0a52141dc5387a492d5c5b6d44cbfea82e3cffc3a811671d19c7f84b19c081cf\n",
            "  Stored in directory: /root/.cache/pip/wheels/8a/67/fb/2e8a12fa16661b9d5af1f654bd199366799740a85c64981226\n",
            "Successfully built fire\n",
            "Installing collected packages: tf-estimator-nightly, opencv-python, retina-face, mtcnn, fire, deepface\n",
            "  Attempting uninstall: opencv-python\n",
            "    Found existing installation: opencv-python 4.1.2.30\n",
            "    Uninstalling opencv-python-4.1.2.30:\n",
            "      Successfully uninstalled opencv-python-4.1.2.30\n",
            "\u001b[31mERROR: pip's dependency resolver does not currently take into account all the packages that are installed. This behaviour is the source of the following dependency conflicts.\n",
            "albumentations 0.1.12 requires imgaug<0.2.7,>=0.2.5, but you have imgaug 0.2.9 which is incompatible.\u001b[0m\n",
            "Successfully installed deepface-0.0.75 fire-0.4.0 mtcnn-0.1.1 opencv-python-4.5.5.64 retina-face-0.0.10 tf-estimator-nightly-2.8.0.dev2021122109\n",
            "Collecting text2emotion\n",
            "  Downloading text2emotion-0.0.5-py3-none-any.whl (57 kB)\n",
            "\u001b[K     |████████████████████████████████| 57 kB 2.8 MB/s \n",
            "\u001b[?25hCollecting emoji>=0.6.0\n",
            "  Downloading emoji-1.7.0.tar.gz (175 kB)\n",
            "\u001b[K     |████████████████████████████████| 175 kB 10.1 MB/s \n",
            "\u001b[?25hRequirement already satisfied: nltk in /usr/local/lib/python3.7/dist-packages (from text2emotion) (3.2.5)\n",
            "Requirement already satisfied: six in /usr/local/lib/python3.7/dist-packages (from nltk->text2emotion) (1.15.0)\n",
            "Building wheels for collected packages: emoji\n",
            "  Building wheel for emoji (setup.py) ... \u001b[?25l\u001b[?25hdone\n",
            "  Created wheel for emoji: filename=emoji-1.7.0-py3-none-any.whl size=171046 sha256=e829c8d3020c9ee58847f5c7d7f0b848ee5bab155cc56feb5f4c57576d0e59f0\n",
            "  Stored in directory: /root/.cache/pip/wheels/8a/4e/b6/57b01db010d17ef6ea9b40300af725ef3e210cb1acfb7ac8b6\n",
            "Successfully built emoji\n",
            "Installing collected packages: emoji, text2emotion\n",
            "Successfully installed emoji-1.7.0 text2emotion-0.0.5\n"
          ]
        }
      ],
      "source": [
        "! pip install deepface\n",
        "! pip install text2emotion"
      ]
    },
    {
      "cell_type": "code",
      "source": [
        "from deepface import DeepFace\n",
        "from google.colab import drive\n",
        "import text2emotion as te\n",
        "import glob\n",
        "import numpy as np\n",
        "import matplotlib.pyplot as plt\n",
        "\n",
        "width = 1\n",
        "\n",
        "# initialize a test image, used for generating the dictionaries\n",
        "obj = DeepFace.analyze(img_path = \"/content/drive/MyDrive/Colab/img1.jpg\", actions = ['emotion'], enforce_detection=False)\n",
        "\n",
        "drive.mount('/content/drive')"
      ],
      "metadata": {
        "colab": {
          "base_uri": "https://localhost:8080/"
        },
        "id": "6sDKYVKtnPav",
        "outputId": "bc7bb0e3-818b-43ee-c2dd-61707229e047"
      },
      "execution_count": null,
      "outputs": [
        {
          "output_type": "stream",
          "name": "stdout",
          "text": [
            "Directory  /root /.deepface created\n",
            "Directory  /root /.deepface/weights created\n",
            "[nltk_data] Downloading package stopwords to /root/nltk_data...\n",
            "[nltk_data]   Unzipping corpora/stopwords.zip.\n",
            "[nltk_data] Downloading package punkt to /root/nltk_data...\n",
            "[nltk_data]   Unzipping tokenizers/punkt.zip.\n",
            "[nltk_data] Downloading package wordnet to /root/nltk_data...\n",
            "[nltk_data]   Unzipping corpora/wordnet.zip.\n",
            "facial_expression_model_weights.h5 will be downloaded...\n"
          ]
        },
        {
          "output_type": "stream",
          "name": "stderr",
          "text": [
            "Downloading...\n",
            "From: https://github.com/serengil/deepface_models/releases/download/v1.0/facial_expression_model_weights.h5\n",
            "To: /root/.deepface/weights/facial_expression_model_weights.h5\n",
            "100%|██████████| 5.98M/5.98M [00:00<00:00, 69.9MB/s]\n"
          ]
        },
        {
          "output_type": "stream",
          "name": "stdout",
          "text": [
            "Drive already mounted at /content/drive; to attempt to forcibly remount, call drive.mount(\"/content/drive\", force_remount=True).\n"
          ]
        }
      ]
    },
    {
      "cell_type": "code",
      "source": [
        "# Grab the pictures\n",
        "pictures = glob.glob(\"/content/drive/MyDrive/Colab/movie_stills/pacific/*\")\n",
        "\n",
        "# set up the dictionary\n",
        "emotionsList = dict()\n",
        "for emo in obj['emotion'].keys():\n",
        "  emotionsList[emo] = 0\n",
        "dominantEmotion = list()\n",
        "\n",
        "# use deepFace to analyze the emotion from each image\n",
        "for picture in pictures:\n",
        "  obj = DeepFace.analyze(img_path = picture, actions = ['emotion'], enforce_detection=False)\n",
        "  for emo in obj['emotion'].keys():\n",
        "    emotionsList[emo]+=(obj['emotion'][emo])\n",
        "  dominantEmotion.append(obj['dominant_emotion'])\n",
        "\n",
        "for emotion in emotionsList.keys():\n",
        "  emotionsList[emotion]=(emotionsList[emotion]/len(pictures))/100\n",
        "  print(\"Emotion: {} Score: {}\".format(emotion,emotionsList[emotion]))\n",
        "\n",
        "\n",
        "# get the most dominant emotion\n",
        "max = emotionsList['angry']\n",
        "maxEmo = 'angry'\n",
        "for emo in emotionsList.keys():\n",
        "  if emotionsList[emo] > max:\n",
        "    max = emotionsList[emo]\n",
        "    maxEmo = emo\n",
        "print(\"Most dominant Emotion: {}\".format(maxEmo))\n",
        "\n",
        "\n",
        "\n",
        "# use text2emotion to get the emotion from the synopsis\n",
        "synopsis = \"Long ago, legions of monstrous creatures called Kaiju arose from the sea, bringing with them all-consuming war. To fight the Kaiju, mankind developed giant robots called Jaegers, designed to be piloted by two humans locked together in a neural bridge. However, even the Jaegers are not enough to defeat the Kaiju, and humanity is on the verge of defeat. Mankind's last hope now lies with a washed-up ex-pilot (Charlie Hunnam), an untested trainee (Rinko Kikuchi) and an old, obsolete Jaeger.\"\n",
        "synopsisDict = te.get_emotion(synopsis)\n",
        "\n",
        "for emotion in synopsisDict.keys():\n",
        "  synopsisDict[emotion]=synopsisDict[emotion]\n",
        "\n",
        "\n",
        "\n",
        "# combine the results to get the main 5 emotions\n",
        "mixDict = {'Happy': 0, 'Angry': 0, 'Sad': 0, 'Surprise': 0, 'Fear': 0}\n",
        "mixDict['Happy'] = (emotionsList['happy']+synopsisDict['Happy'])/2\n",
        "mixDict['Angry'] = (emotionsList['angry']+synopsisDict['Angry'])/2\n",
        "mixDict['Sad'] = (emotionsList['sad']+synopsisDict['Sad'])/2\n",
        "mixDict['Surprise'] = (emotionsList['surprise']+synopsisDict['Surprise'])/2\n",
        "mixDict['Fear'] = (emotionsList['fear']+synopsisDict['Fear'])/2\n",
        "\n",
        "\n",
        "\n",
        "# show the results\n",
        "plt.figure(figsize=(20,4))\n",
        "\n",
        "plt.subplot(131)\n",
        "plt.bar(emotionsList.keys(), emotionsList.values(), width)\n",
        "plt.title(\"Pacific Rim - by screencap\")\n",
        "\n",
        "\n",
        "plt.subplot(132)\n",
        "plt.bar(synopsisDict.keys(), synopsisDict.values(), width)\n",
        "plt.title(\"Pacific Rim - by synopsis\")\n",
        "\n",
        "plt.subplot(133)\n",
        "plt.bar(mixDict.keys(), mixDict.values(), width)\n",
        "plt.title(\"Pacific Rim - combined results\")\n",
        "\n",
        "plt.show()"
      ],
      "metadata": {
        "colab": {
          "base_uri": "https://localhost:8080/",
          "height": 420
        },
        "id": "e_V9Q8H-Om2C",
        "outputId": "3693af3f-021b-4c63-f4dd-f70c6249f6ec"
      },
      "execution_count": null,
      "outputs": [
        {
          "output_type": "stream",
          "name": "stdout",
          "text": [
            "Emotion: angry Score: 0.07633279603622944\n",
            "Emotion: disgust Score: 3.635238581793936e-06\n",
            "Emotion: fear Score: 0.2002971510522579\n",
            "Emotion: happy Score: 0.11912505582161449\n",
            "Emotion: sad Score: 0.28402422132052946\n",
            "Emotion: surprise Score: 0.00012568976400055397\n",
            "Emotion: neutral Score: 0.3200914410687229\n",
            "Most dominant Emotion: neutral\n"
          ]
        },
        {
          "output_type": "display_data",
          "data": {
            "text/plain": [
              "<Figure size 1440x288 with 3 Axes>"
            ],
            "image/png": "[encoded data removed]"
          },
          "metadata": {
            "needs_background": "light"
          }
        }
      ]
    },
    {
      "cell_type": "code",
      "source": [
        "# Grab the pictures\n",
        "pictures = glob.glob(\"/content/drive/MyDrive/Colab/movie_stills/1917/*\")\n",
        "\n",
        "# set up the dictionary\n",
        "emotionsList = dict()\n",
        "for emo in obj['emotion'].keys():\n",
        "  emotionsList[emo] = 0\n",
        "dominantEmotion = list()\n",
        "\n",
        "# use deepFace to analyze the emotion from each image\n",
        "for picture in pictures:\n",
        "  obj = DeepFace.analyze(img_path = picture, actions = ['emotion'], enforce_detection=False)\n",
        "  for emo in obj['emotion'].keys():\n",
        "    emotionsList[emo]+=(obj['emotion'][emo])\n",
        "  dominantEmotion.append(obj['dominant_emotion'])\n",
        "\n",
        "for emotion in emotionsList.keys():\n",
        "  emotionsList[emotion]=(emotionsList[emotion]/len(pictures))/100\n",
        "  print(\"Emotion: {} Score: {}\".format(emotion,emotionsList[emotion]))\n",
        "\n",
        "\n",
        "# get the most dominant emotion\n",
        "max = emotionsList['angry']\n",
        "maxEmo = 'angry'\n",
        "for emo in emotionsList.keys():\n",
        "  if emotionsList[emo] > max:\n",
        "    max = emotionsList[emo]\n",
        "    maxEmo = emo\n",
        "print(\"Most dominant Emotion: {}\".format(maxEmo))\n",
        "\n",
        "\n",
        "\n",
        "# use text2emotion to get the emotion from the synopsis\n",
        "synopsis = \"During World War I, two British soldiers -- Lance Cpl. Schofield and Lance Cpl. Blake -- receive seemingly impossible orders. In a race against time, they must cross over into enemy territory to deliver a message that could potentially save 1,600 of their fellow comrades -- including Blake's own brother.\"\n",
        "synopsisDict = te.get_emotion(synopsis)\n",
        "\n",
        "for emotion in synopsisDict.keys():\n",
        "  synopsisDict[emotion]=synopsisDict[emotion]\n",
        "\n",
        "\n",
        "\n",
        "# combine the results to get the main 5 emotions\n",
        "mixDict = {'Happy': 0, 'Angry': 0, 'Sad': 0, 'Surprise': 0, 'Fear': 0}\n",
        "mixDict['Happy'] = (emotionsList['happy']+synopsisDict['Happy'])/2\n",
        "mixDict['Angry'] = (emotionsList['angry']+synopsisDict['Angry'])/2\n",
        "mixDict['Sad'] = (emotionsList['sad']+synopsisDict['Sad'])/2\n",
        "mixDict['Surprise'] = (emotionsList['surprise']+synopsisDict['Surprise'])/2\n",
        "mixDict['Fear'] = (emotionsList['fear']+synopsisDict['Fear'])/2\n",
        "\n",
        "\n",
        "\n",
        "# show the results\n",
        "plt.figure(figsize=(20,4))\n",
        "\n",
        "plt.subplot(131)\n",
        "plt.bar(emotionsList.keys(), emotionsList.values(), width)\n",
        "plt.title(\"1917 - by screencap\")\n",
        "\n",
        "\n",
        "plt.subplot(132)\n",
        "plt.bar(synopsisDict.keys(), synopsisDict.values(), width)\n",
        "plt.title(\"1917 - by synopsis\")\n",
        "\n",
        "plt.subplot(133)\n",
        "plt.bar(mixDict.keys(), mixDict.values(), width)\n",
        "plt.title(\"1917 - combined results\")\n",
        "\n",
        "plt.show()"
      ],
      "metadata": {
        "colab": {
          "base_uri": "https://localhost:8080/",
          "height": 420
        },
        "id": "7au0ZiCLUKMm",
        "outputId": "ce7624df-ad35-45ae-e3b8-da26704628a4"
      },
      "execution_count": null,
      "outputs": [
        {
          "output_type": "stream",
          "name": "stdout",
          "text": [
            "Emotion: angry Score: 0.24748728431020267\n",
            "Emotion: disgust Score: 1.5504416904457777e-05\n",
            "Emotion: fear Score: 0.18612510250291656\n",
            "Emotion: happy Score: 0.1173268213949169\n",
            "Emotion: sad Score: 0.234328452940264\n",
            "Emotion: surprise Score: 0.005138922157805124\n",
            "Emotion: neutral Score: 0.20957791927794073\n",
            "Most dominant Emotion: angry\n"
          ]
        },
        {
          "output_type": "display_data",
          "data": {
            "text/plain": [
              "<Figure size 1440x288 with 3 Axes>"
            ],
            "image/png": "[encoded data removed]"
          },
          "metadata": {
            "needs_background": "light"
          }
        }
      ]
    },
    {
      "cell_type": "code",
      "source": [
        "# Grab the pictures\n",
        "pictures = glob.glob(\"/content/drive/MyDrive/Colab/movie_stills/godfather/*\")\n",
        "\n",
        "# set up the dictionary\n",
        "emotionsList = dict()\n",
        "for emo in obj['emotion'].keys():\n",
        "  emotionsList[emo] = 0\n",
        "dominantEmotion = list()\n",
        "\n",
        "# use deepFace to analyze the emotion from each image\n",
        "for picture in pictures:\n",
        "  obj = DeepFace.analyze(img_path = picture, actions = ['emotion'], enforce_detection=False)\n",
        "  for emo in obj['emotion'].keys():\n",
        "    emotionsList[emo]+=(obj['emotion'][emo])\n",
        "  dominantEmotion.append(obj['dominant_emotion'])\n",
        "\n",
        "for emotion in emotionsList.keys():\n",
        "  emotionsList[emotion]=(emotionsList[emotion]/len(pictures))/100\n",
        "  print(\"Emotion: {} Score: {}\".format(emotion,emotionsList[emotion]))\n",
        "\n",
        "\n",
        "# get the most dominant emotion\n",
        "max = emotionsList['angry']\n",
        "maxEmo = 'angry'\n",
        "for emo in emotionsList.keys():\n",
        "  if emotionsList[emo] > max:\n",
        "    max = emotionsList[emo]\n",
        "    maxEmo = emo\n",
        "print(\"Most dominant Emotion: {}\".format(maxEmo))\n",
        "\n",
        "\n",
        "\n",
        "# use text2emotion to get the emotion from the synopsis\n",
        "synopsis = \"Widely regarded as one of the greatest films of all time, this mob drama, based on Mario Puzo's novel of the same name, focuses on the powerful Italian-American crime family of Don Vito Corleone (Marlon Brando). When the don's youngest son, Michael (Al Pacino), reluctantly joins the Mafia, he becomes involved in the inevitable cycle of violence and betrayal. Although Michael tries to maintain a normal relationship with his wife, Kay (Diane Keaton), he is drawn deeper into the family business.\"\n",
        "synopsisDict = te.get_emotion(synopsis)\n",
        "\n",
        "for emotion in synopsisDict.keys():\n",
        "  synopsisDict[emotion]=synopsisDict[emotion]\n",
        "\n",
        "\n",
        "\n",
        "# combine the results to get the main 5 emotions\n",
        "mixDict = {'Happy': 0, 'Angry': 0, 'Sad': 0, 'Surprise': 0, 'Fear': 0}\n",
        "mixDict['Happy'] = (emotionsList['happy']+synopsisDict['Happy'])/2\n",
        "mixDict['Angry'] = (emotionsList['angry']+synopsisDict['Angry'])/2\n",
        "mixDict['Sad'] = (emotionsList['sad']+synopsisDict['Sad'])/2\n",
        "mixDict['Surprise'] = (emotionsList['surprise']+synopsisDict['Surprise'])/2\n",
        "mixDict['Fear'] = (emotionsList['fear']+synopsisDict['Fear'])/2\n",
        "\n",
        "\n",
        "\n",
        "# show the results\n",
        "plt.figure(figsize=(20,4))\n",
        "\n",
        "plt.subplot(131)\n",
        "plt.bar(emotionsList.keys(), emotionsList.values(), width)\n",
        "plt.title(\"The Godfather - by screencap\")\n",
        "\n",
        "\n",
        "plt.subplot(132)\n",
        "plt.bar(synopsisDict.keys(), synopsisDict.values(), width)\n",
        "plt.title(\"The Godfather - by synopsis\")\n",
        "\n",
        "plt.subplot(133)\n",
        "plt.bar(mixDict.keys(), mixDict.values(), width)\n",
        "plt.title(\"The Godfather - combined results\")\n",
        "\n",
        "plt.show()"
      ],
      "metadata": {
        "colab": {
          "base_uri": "https://localhost:8080/",
          "height": 420
        },
        "id": "oqhcsFU3UUpM",
        "outputId": "faa8d8d1-74e3-4d58-a648-2057835b3589"
      },
      "execution_count": null,
      "outputs": [
        {
          "output_type": "stream",
          "name": "stdout",
          "text": [
            "Emotion: angry Score: 0.16849340935218265\n",
            "Emotion: disgust Score: 0.004805598892350658\n",
            "Emotion: fear Score: 0.1435502559562848\n",
            "Emotion: happy Score: 0.11914986116257119\n",
            "Emotion: sad Score: 0.2782599912828335\n",
            "Emotion: surprise Score: 0.0028905329223072153\n",
            "Emotion: neutral Score: 0.2828503553243098\n",
            "Most dominant Emotion: neutral\n"
          ]
        },
        {
          "output_type": "display_data",
          "data": {
            "text/plain": [
              "<Figure size 1440x288 with 3 Axes>"
            ],
            "image/png": "[encoded data removed]"
          },
          "metadata": {
            "needs_background": "light"
          }
        }
      ]
    },
    {
      "cell_type": "code",
      "source": [
        "# Grab the pictures\n",
        "pictures = glob.glob(\"/content/drive/MyDrive/Colab/movie_stills/laughter/*\")\n",
        "\n",
        "# set up the dictionary\n",
        "emotionsList = dict()\n",
        "for emo in obj['emotion'].keys():\n",
        "  emotionsList[emo] = 0\n",
        "dominantEmotion = list()\n",
        "\n",
        "# use deepFace to analyze the emotion from each image\n",
        "for picture in pictures:\n",
        "  obj = DeepFace.analyze(img_path = picture, actions = ['emotion'], enforce_detection=False)\n",
        "  for emo in obj['emotion'].keys():\n",
        "    emotionsList[emo]+=(obj['emotion'][emo])\n",
        "  dominantEmotion.append(obj['dominant_emotion'])\n",
        "\n",
        "for emotion in emotionsList.keys():\n",
        "  emotionsList[emotion]=(emotionsList[emotion]/len(pictures))/100\n",
        "  print(\"Emotion: {} Score: {}\".format(emotion,emotionsList[emotion]))\n",
        "\n",
        "\n",
        "# get the most dominant emotion\n",
        "max = emotionsList['angry']\n",
        "maxEmo = 'angry'\n",
        "for emo in emotionsList.keys():\n",
        "  if emotionsList[emo] > max:\n",
        "    max = emotionsList[emo]\n",
        "    maxEmo = emo\n",
        "print(\"Most dominant Emotion: {}\".format(maxEmo))\n",
        "\n",
        "\n",
        "\n",
        "# use text2emotion to get the emotion from the synopsis\n",
        "synopsis = \"A friend and a boyfriend help a woman cope with a traumatizing incident from the past.\"\n",
        "synopsisDict = te.get_emotion(synopsis)\n",
        "\n",
        "for emotion in synopsisDict.keys():\n",
        "  synopsisDict[emotion]=synopsisDict[emotion]\n",
        "\n",
        "\n",
        "\n",
        "# combine the results to get the main 5 emotions\n",
        "mixDict = {'Happy': 0, 'Angry': 0, 'Sad': 0, 'Surprise': 0, 'Fear': 0}\n",
        "mixDict['Happy'] = (emotionsList['happy']+synopsisDict['Happy'])/2\n",
        "mixDict['Angry'] = (emotionsList['angry']+synopsisDict['Angry'])/2\n",
        "mixDict['Sad'] = (emotionsList['sad']+synopsisDict['Sad'])/2\n",
        "mixDict['Surprise'] = (emotionsList['surprise']+synopsisDict['Surprise'])/2\n",
        "mixDict['Fear'] = (emotionsList['fear']+synopsisDict['Fear'])/2\n",
        "\n",
        "\n",
        "\n",
        "# show the results\n",
        "plt.figure(figsize=(20,4))\n",
        "\n",
        "plt.subplot(131)\n",
        "plt.bar(emotionsList.keys(), emotionsList.values(), width)\n",
        "plt.title(\"Laughter - by screencap\")\n",
        "\n",
        "\n",
        "plt.subplot(132)\n",
        "plt.bar(synopsisDict.keys(), synopsisDict.values(), width)\n",
        "plt.title(\"Laughter - by synopsis\")\n",
        "\n",
        "plt.subplot(133)\n",
        "plt.bar(mixDict.keys(), mixDict.values(), width)\n",
        "plt.title(\"Laughter - combined results\")\n",
        "\n",
        "plt.show()"
      ],
      "metadata": {
        "colab": {
          "base_uri": "https://localhost:8080/",
          "height": 420
        },
        "id": "jILAJGL-UUvt",
        "outputId": "0e2b84f3-0612-4a32-abd0-26e1837fea27"
      },
      "execution_count": null,
      "outputs": [
        {
          "output_type": "stream",
          "name": "stdout",
          "text": [
            "Emotion: angry Score: 0.02462579834624529\n",
            "Emotion: disgust Score: 2.9240985286617107e-05\n",
            "Emotion: fear Score: 0.015433157843379617\n",
            "Emotion: happy Score: 0.4628369025265696\n",
            "Emotion: sad Score: 0.2268212337358629\n",
            "Emotion: surprise Score: 0.033193166955295\n",
            "Emotion: neutral Score: 0.23706050986520552\n",
            "Most dominant Emotion: happy\n"
          ]
        },
        {
          "output_type": "display_data",
          "data": {
            "text/plain": [
              "<Figure size 1440x288 with 3 Axes>"
            ],
            "image/png": "[encoded data removed]"
          },
          "metadata": {
            "needs_background": "light"
          }
        }
      ]
    },
    {
      "cell_type": "code",
      "source": [
        "# Grab the pictures\n",
        "pictures = glob.glob(\"/content/drive/MyDrive/Colab/movie_stills/memories/*\")\n",
        "\n",
        "# set up the dictionary\n",
        "emotionsList = dict()\n",
        "for emo in obj['emotion'].keys():\n",
        "  emotionsList[emo] = 0\n",
        "dominantEmotion = list()\n",
        "\n",
        "# use deepFace to analyze the emotion from each image\n",
        "for picture in pictures:\n",
        "  obj = DeepFace.analyze(img_path = picture, actions = ['emotion'], enforce_detection=False)\n",
        "  for emo in obj['emotion'].keys():\n",
        "    emotionsList[emo]+=(obj['emotion'][emo])\n",
        "  dominantEmotion.append(obj['dominant_emotion'])\n",
        "\n",
        "for emotion in emotionsList.keys():\n",
        "  emotionsList[emotion]=(emotionsList[emotion]/len(pictures))/100\n",
        "  print(\"Emotion: {} Score: {}\".format(emotion,emotionsList[emotion]))\n",
        "\n",
        "\n",
        "# get the most dominant emotion\n",
        "max = emotionsList['angry']\n",
        "maxEmo = 'angry'\n",
        "for emo in emotionsList.keys():\n",
        "  if emotionsList[emo] > max:\n",
        "    max = emotionsList[emo]\n",
        "    maxEmo = emo\n",
        "print(\"Most dominant Emotion: {}\".format(maxEmo))\n",
        "\n",
        "\n",
        "\n",
        "# use text2emotion to get the emotion from the synopsis\n",
        "synopsis = \"Sam Alex becomes an alcoholic and takes a long leave after his wife and daughter are murdered. His mother is concerned he may die and asks him to crack a case of a serial killer who hangs victims from a cross.\"\n",
        "synopsisDict = te.get_emotion(synopsis)\n",
        "\n",
        "for emotion in synopsisDict.keys():\n",
        "  synopsisDict[emotion]=synopsisDict[emotion]\n",
        "\n",
        "\n",
        "\n",
        "# combine the results to get the main 5 emotions\n",
        "mixDict = {'Happy': 0, 'Angry': 0, 'Sad': 0, 'Surprise': 0, 'Fear': 0}\n",
        "mixDict['Happy'] = (emotionsList['happy']+synopsisDict['Happy'])/2\n",
        "mixDict['Angry'] = (emotionsList['angry']+synopsisDict['Angry'])/2\n",
        "mixDict['Sad'] = (emotionsList['sad']+synopsisDict['Sad'])/2\n",
        "mixDict['Surprise'] = (emotionsList['surprise']+synopsisDict['Surprise'])/2\n",
        "mixDict['Fear'] = (emotionsList['fear']+synopsisDict['Fear'])/2\n",
        "\n",
        "\n",
        "\n",
        "# show the results\n",
        "plt.figure(figsize=(20,4))\n",
        "\n",
        "plt.subplot(131)\n",
        "plt.bar(emotionsList.keys(), emotionsList.values(), width)\n",
        "plt.title(\"Memories - by screencap\")\n",
        "\n",
        "\n",
        "plt.subplot(132)\n",
        "plt.bar(synopsisDict.keys(), synopsisDict.values(), width)\n",
        "plt.title(\"Memories - by synopsis\")\n",
        "\n",
        "plt.subplot(133)\n",
        "plt.bar(mixDict.keys(), mixDict.values(), width)\n",
        "plt.title(\"Memories - combined results\")\n",
        "\n",
        "plt.show()"
      ],
      "metadata": {
        "colab": {
          "base_uri": "https://localhost:8080/",
          "height": 420
        },
        "id": "3LX27N3YUU3k",
        "outputId": "c7c55b28-3663-4b6c-a3b2-19376ae78b9a"
      },
      "execution_count": null,
      "outputs": [
        {
          "output_type": "stream",
          "name": "stdout",
          "text": [
            "Emotion: angry Score: 0.010031009278039816\n",
            "Emotion: disgust Score: 0.00015176866466497932\n",
            "Emotion: fear Score: 0.11375655168779002\n",
            "Emotion: happy Score: 0.5824360548079888\n",
            "Emotion: sad Score: 0.01958415588188403\n",
            "Emotion: surprise Score: 0.11111926975171375\n",
            "Emotion: neutral Score: 0.1629212019223175\n",
            "Most dominant Emotion: happy\n"
          ]
        },
        {
          "output_type": "display_data",
          "data": {
            "text/plain": [
              "<Figure size 1440x288 with 3 Axes>"
            ],
            "image/png": "[encoded data removed]"
          },
          "metadata": {
            "needs_background": "light"
          }
        }
      ]
    },
    {
      "cell_type": "code",
      "source": [
        "# Grab the pictures\n",
        "pictures = glob.glob(\"/content/drive/MyDrive/Colab/movie_stills/hitchhiker/*\")\n",
        "\n",
        "# set up the dictionary\n",
        "emotionsList = dict()\n",
        "for emo in obj['emotion'].keys():\n",
        "  emotionsList[emo] = 0\n",
        "dominantEmotion = list()\n",
        "\n",
        "# use deepFace to analyze the emotion from each image\n",
        "for picture in pictures:\n",
        "  obj = DeepFace.analyze(img_path = picture, actions = ['emotion'], enforce_detection=False)\n",
        "  for emo in obj['emotion'].keys():\n",
        "    emotionsList[emo]+=(obj['emotion'][emo])\n",
        "  dominantEmotion.append(obj['dominant_emotion'])\n",
        "\n",
        "for emotion in emotionsList.keys():\n",
        "  emotionsList[emotion]=(emotionsList[emotion]/len(pictures))/100\n",
        "  print(\"Emotion: {} Score: {}\".format(emotion,emotionsList[emotion]))\n",
        "\n",
        "\n",
        "# get the most dominant emotion\n",
        "max = emotionsList['angry']\n",
        "maxEmo = 'angry'\n",
        "for emo in emotionsList.keys():\n",
        "  if emotionsList[emo] > max:\n",
        "    max = emotionsList[emo]\n",
        "    maxEmo = emo\n",
        "print(\"Most dominant Emotion: {}\".format(maxEmo))\n",
        "\n",
        "\n",
        "\n",
        "# use text2emotion to get the emotion from the synopsis\n",
        "synopsis = \"Arthur Dent (Martin Freeman) is trying to prevent his house from being bulldozed when his friend Ford Prefect (Mos Def) whisks him into outer space. It turns out Ford is an alien who has just saved Arthur from Earth's total annihilation. Ford introduces Arthur to his myriad friends, including many-headed President Zaphod Beeblebrox (Sam Rockwell) and sexy refugee Trillian (Zooey Deschanel). Arthur makes his way across the stars while seeking the meaning of life, or something close to it\"\n",
        "synopsisDict = te.get_emotion(synopsis)\n",
        "\n",
        "for emotion in synopsisDict.keys():\n",
        "  synopsisDict[emotion]=synopsisDict[emotion]\n",
        "\n",
        "\n",
        "\n",
        "# combine the results to get the main 5 emotions\n",
        "mixDict = {'Happy': 0, 'Angry': 0, 'Sad': 0, 'Surprise': 0, 'Fear': 0}\n",
        "mixDict['Happy'] = (emotionsList['happy']+synopsisDict['Happy'])/2\n",
        "mixDict['Angry'] = (emotionsList['angry']+synopsisDict['Angry'])/2\n",
        "mixDict['Sad'] = (emotionsList['sad']+synopsisDict['Sad'])/2\n",
        "mixDict['Surprise'] = (emotionsList['surprise']+synopsisDict['Surprise'])/2\n",
        "mixDict['Fear'] = (emotionsList['fear']+synopsisDict['Fear'])/2\n",
        "\n",
        "\n",
        "\n",
        "# show the results\n",
        "plt.figure(figsize=(20,4))\n",
        "\n",
        "plt.subplot(131)\n",
        "plt.bar(emotionsList.keys(), emotionsList.values(), width)\n",
        "plt.title(\"The Hitchhiker's Guide - by screencap\")\n",
        "\n",
        "\n",
        "plt.subplot(132)\n",
        "plt.bar(synopsisDict.keys(), synopsisDict.values(), width)\n",
        "plt.title(\"The Hitchhiker's Guide - by synopsis\")\n",
        "\n",
        "plt.subplot(133)\n",
        "plt.bar(mixDict.keys(), mixDict.values(), width)\n",
        "plt.title(\"The Hitchhiker's Guide - combined results\")\n",
        "\n",
        "plt.show()"
      ],
      "metadata": {
        "colab": {
          "base_uri": "https://localhost:8080/",
          "height": 420
        },
        "id": "Qfn75RvZUU-K",
        "outputId": "c604024e-5412-4438-e4b7-e5d1dfd03bc2"
      },
      "execution_count": null,
      "outputs": [
        {
          "output_type": "stream",
          "name": "stdout",
          "text": [
            "Emotion: angry Score: 0.09194741120735073\n",
            "Emotion: disgust Score: 0.004990460686037353\n",
            "Emotion: fear Score: 0.28966164686605944\n",
            "Emotion: happy Score: 0.09113650127322347\n",
            "Emotion: sad Score: 0.40391365388780914\n",
            "Emotion: surprise Score: 0.00015548815554863524\n",
            "Emotion: neutral Score: 0.11819484948812858\n",
            "Most dominant Emotion: sad\n"
          ]
        },
        {
          "output_type": "display_data",
          "data": {
            "text/plain": [
              "<Figure size 1440x288 with 3 Axes>"
            ],
            "image/png": "[encoded data removed]"
          },
          "metadata": {
            "needs_background": "light"
          }
        }
      ]
    },
    {
      "cell_type": "code",
      "source": [
        "# Grab the pictures\n",
        "pictures = glob.glob(\"/content/drive/MyDrive/Colab/movie_stills/life-is-beautiful-1997-228.jpg\")\n",
        "\n",
        "# set up the dictionary\n",
        "emotionsList = dict()\n",
        "for emo in obj['emotion'].keys():\n",
        "  emotionsList[emo] = 0\n",
        "dominantEmotion = list()\n",
        "\n",
        "# use deepFace to analyze the emotion from each image\n",
        "for picture in pictures:\n",
        "  obj = DeepFace.analyze(img_path = picture, actions = ['emotion'], enforce_detection=False)\n",
        "  for emo in obj['emotion'].keys():\n",
        "    emotionsList[emo]+=(obj['emotion'][emo])\n",
        "  dominantEmotion.append(obj['dominant_emotion'])\n",
        "\n",
        "for emotion in emotionsList.keys():\n",
        "  emotionsList[emotion]=(emotionsList[emotion]/len(pictures))/100\n",
        "  print(\"Emotion: {} Score: {}\".format(emotion,emotionsList[emotion]))\n",
        "\n",
        "\n",
        "# get the most dominant emotion\n",
        "max = emotionsList['angry']\n",
        "maxEmo = 'angry'\n",
        "for emo in emotionsList.keys():\n",
        "  if emotionsList[emo] > max:\n",
        "    max = emotionsList[emo]\n",
        "    maxEmo = emo\n",
        "print(\"Most dominant Emotion: {}\".format(maxEmo))\n",
        "\n",
        "\n",
        "\n",
        "# use text2emotion to get the emotion from the synopsis\n",
        "synopsis = \"A gentle Jewish-Italian waiter, Guido Orefice (Roberto Benigni), meets Dora (Nicoletta Braschi), a pretty schoolteacher, and wins her over with his charm and humor. Eventually they marry and have a son, Giosue (Giorgio Cantarini). Their happiness is abruptly halted, however, when Guido and Giosue are separated from Dora and taken to a concentration camp. Determined to shelter his son from the horrors of his surroundings, Guido convinces Giosue that their time in the camp is merely a game.\"\n",
        "synopsisDict = te.get_emotion(synopsis)\n",
        "\n",
        "for emotion in synopsisDict.keys():\n",
        "  synopsisDict[emotion]=synopsisDict[emotion]\n",
        "\n",
        "\n",
        "\n",
        "# combine the results to get the main 5 emotions\n",
        "mixDict = {'Happy': 0, 'Angry': 0, 'Sad': 0, 'Surprise': 0, 'Fear': 0}\n",
        "mixDict['Happy'] = (emotionsList['happy']+synopsisDict['Happy'])/2\n",
        "mixDict['Angry'] = (emotionsList['angry']+synopsisDict['Angry'])/2\n",
        "mixDict['Sad'] = (emotionsList['sad']+synopsisDict['Sad'])/2\n",
        "mixDict['Surprise'] = (emotionsList['surprise']+synopsisDict['Surprise'])/2\n",
        "mixDict['Fear'] = (emotionsList['fear']+synopsisDict['Fear'])/2\n",
        "\n",
        "\n",
        "\n",
        "# show the results\n",
        "plt.figure(figsize=(20,4))\n",
        "\n",
        "plt.subplot(131)\n",
        "plt.bar(emotionsList.keys(), emotionsList.values(), width)\n",
        "plt.title(\"Life is Beautiful - by screencap\")\n",
        "\n",
        "\n",
        "plt.subplot(132)\n",
        "plt.bar(synopsisDict.keys(), synopsisDict.values(), width)\n",
        "plt.title(\"Life is Beautiful - by synopsis\")\n",
        "\n",
        "plt.subplot(133)\n",
        "plt.bar(mixDict.keys(), mixDict.values(), width)\n",
        "plt.title(\"Life is Beautiful - combined results\")\n",
        "\n",
        "plt.show()"
      ],
      "metadata": {
        "colab": {
          "base_uri": "https://localhost:8080/",
          "height": 420
        },
        "id": "53j6t3CVWt91",
        "outputId": "cd990e98-2fd0-4b45-9d2f-0060eac4884e"
      },
      "execution_count": null,
      "outputs": [
        {
          "output_type": "stream",
          "name": "stdout",
          "text": [
            "Emotion: angry Score: 0.28751182556152344\n",
            "Emotion: disgust Score: 5.470870405588357e-07\n",
            "Emotion: fear Score: 0.005376089829951525\n",
            "Emotion: happy Score: 0.20534904301166534\n",
            "Emotion: sad Score: 0.4579392075538635\n",
            "Emotion: surprise Score: 4.785572969012719e-07\n",
            "Emotion: neutral Score: 0.04382285103201866\n",
            "Most dominant Emotion: sad\n"
          ]
        },
        {
          "output_type": "display_data",
          "data": {
            "text/plain": [
              "<Figure size 1440x288 with 3 Axes>"
            ],
            "image/png": "[encoded data removed]"
          },
          "metadata": {
            "needs_background": "light"
          }
        }
      ]
    },
    {
      "cell_type": "code",
      "source": [
        "# Grab the pictures\n",
        "pictures = glob.glob(\"/content/drive/MyDrive/Colab/movie_stills/midsommar-2019-258-15692.jpg\")\n",
        "\n",
        "# set up the dictionary\n",
        "emotionsList = dict()\n",
        "for emo in obj['emotion'].keys():\n",
        "  emotionsList[emo] = 0\n",
        "dominantEmotion = list()\n",
        "\n",
        "# use deepFace to analyze the emotion from each image\n",
        "for picture in pictures:\n",
        "  obj = DeepFace.analyze(img_path = picture, actions = ['emotion'], enforce_detection=False)\n",
        "  for emo in obj['emotion'].keys():\n",
        "    emotionsList[emo]+=(obj['emotion'][emo])\n",
        "  dominantEmotion.append(obj['dominant_emotion'])\n",
        "\n",
        "for emotion in emotionsList.keys():\n",
        "  emotionsList[emotion]=(emotionsList[emotion]/len(pictures))/100\n",
        "  print(\"Emotion: {} Score: {}\".format(emotion,emotionsList[emotion]))\n",
        "\n",
        "\n",
        "# get the most dominant emotion\n",
        "max = emotionsList['angry']\n",
        "maxEmo = 'angry'\n",
        "for emo in emotionsList.keys():\n",
        "  if emotionsList[emo] > max:\n",
        "    max = emotionsList[emo]\n",
        "    maxEmo = emo\n",
        "print(\"Most dominant Emotion: {}\".format(maxEmo))\n",
        "\n",
        "\n",
        "\n",
        "# use text2emotion to get the emotion from the synopsis\n",
        "synopsis = \"A couple travel to Sweden to visit their friend's rural hometown for its fabled midsummer festival, but what begins as an idyllic retreat quickly devolves into an increasingly violent and bizarre competition at the hands of a pagan cult.\"\n",
        "synopsisDict = te.get_emotion(synopsis)\n",
        "\n",
        "for emotion in synopsisDict.keys():\n",
        "  synopsisDict[emotion]=synopsisDict[emotion]\n",
        "\n",
        "\n",
        "\n",
        "# combine the results to get the main 5 emotions\n",
        "mixDict = {'Happy': 0, 'Angry': 0, 'Sad': 0, 'Surprise': 0, 'Fear': 0}\n",
        "mixDict['Happy'] = (emotionsList['happy']+synopsisDict['Happy'])/2\n",
        "mixDict['Angry'] = (emotionsList['angry']+synopsisDict['Angry'])/2\n",
        "mixDict['Sad'] = (emotionsList['sad']+synopsisDict['Sad'])/2\n",
        "mixDict['Surprise'] = (emotionsList['surprise']+synopsisDict['Surprise'])/2\n",
        "mixDict['Fear'] = (emotionsList['fear']+synopsisDict['Fear'])/2\n",
        "\n",
        "\n",
        "\n",
        "# show the results\n",
        "plt.figure(figsize=(20,4))\n",
        "\n",
        "plt.subplot(131)\n",
        "plt.bar(emotionsList.keys(), emotionsList.values(), width)\n",
        "plt.title(\"Midsommar - by screencap\")\n",
        "\n",
        "\n",
        "plt.subplot(132)\n",
        "plt.bar(synopsisDict.keys(), synopsisDict.values(), width)\n",
        "plt.title(\"Midsommar - by synopsis\")\n",
        "\n",
        "plt.subplot(133)\n",
        "plt.bar(mixDict.keys(), mixDict.values(), width)\n",
        "plt.title(\"Midsommar - combined results\")\n",
        "\n",
        "plt.show()"
      ],
      "metadata": {
        "colab": {
          "base_uri": "https://localhost:8080/",
          "height": 420
        },
        "id": "Q5ItBrj-WwCA",
        "outputId": "965fa5ee-a89d-4d84-fc2d-bc37dc13cbc2"
      },
      "execution_count": null,
      "outputs": [
        {
          "output_type": "stream",
          "name": "stdout",
          "text": [
            "Emotion: angry Score: 0.001605829456821084\n",
            "Emotion: disgust Score: 4.881850691162981e-05\n",
            "Emotion: fear Score: 0.0022541366051882505\n",
            "Emotion: happy Score: 0.6010801792144775\n",
            "Emotion: sad Score: 0.009285260923206806\n",
            "Emotion: surprise Score: 0.0002636965364217758\n",
            "Emotion: neutral Score: 0.3854620158672333\n",
            "Most dominant Emotion: happy\n"
          ]
        },
        {
          "output_type": "display_data",
          "data": {
            "text/plain": [
              "<Figure size 1440x288 with 3 Axes>"
            ],
            "image/png": "[encoded data removed]"
          },
          "metadata": {
            "needs_background": "light"
          }
        }
      ]
    },
    {
      "cell_type": "code",
      "source": [
        "# Grab the pictures\n",
        "pictures = glob.glob(\"/content/drive/MyDrive/Colab/movie_stills/parasite-2019-262-17182.jpg\")\n",
        "\n",
        "# set up the dictionary\n",
        "emotionsList = dict()\n",
        "for emo in obj['emotion'].keys():\n",
        "  emotionsList[emo] = 0\n",
        "dominantEmotion = list()\n",
        "\n",
        "# use deepFace to analyze the emotion from each image\n",
        "for picture in pictures:\n",
        "  obj = DeepFace.analyze(img_path = picture, actions = ['emotion'], enforce_detection=False)\n",
        "  for emo in obj['emotion'].keys():\n",
        "    emotionsList[emo]+=(obj['emotion'][emo])\n",
        "  dominantEmotion.append(obj['dominant_emotion'])\n",
        "\n",
        "for emotion in emotionsList.keys():\n",
        "  emotionsList[emotion]=(emotionsList[emotion]/len(pictures))/100\n",
        "  print(\"Emotion: {} Score: {}\".format(emotion,emotionsList[emotion]))\n",
        "\n",
        "\n",
        "# get the most dominant emotion\n",
        "max = emotionsList['angry']\n",
        "maxEmo = 'angry'\n",
        "for emo in emotionsList.keys():\n",
        "  if emotionsList[emo] > max:\n",
        "    max = emotionsList[emo]\n",
        "    maxEmo = emo\n",
        "print(\"Most dominant Emotion: {}\".format(maxEmo))\n",
        "\n",
        "\n",
        "\n",
        "# use text2emotion to get the emotion from the synopsis\n",
        "synopsis = \"Greed and class discrimination threaten the newly formed symbiotic relationship between the wealthy Park family and the destitute Kim clan.\"\n",
        "synopsisDict = te.get_emotion(synopsis)\n",
        "\n",
        "for emotion in synopsisDict.keys():\n",
        "  synopsisDict[emotion]=synopsisDict[emotion]\n",
        "\n",
        "\n",
        "\n",
        "# combine the results to get the main 5 emotions\n",
        "mixDict = {'Happy': 0, 'Angry': 0, 'Sad': 0, 'Surprise': 0, 'Fear': 0}\n",
        "mixDict['Happy'] = (emotionsList['happy']+synopsisDict['Happy'])/2\n",
        "mixDict['Angry'] = (emotionsList['angry']+synopsisDict['Angry'])/2\n",
        "mixDict['Sad'] = (emotionsList['sad']+synopsisDict['Sad'])/2\n",
        "mixDict['Surprise'] = (emotionsList['surprise']+synopsisDict['Surprise'])/2\n",
        "mixDict['Fear'] = (emotionsList['fear']+synopsisDict['Fear'])/2\n",
        "\n",
        "\n",
        "\n",
        "# show the results\n",
        "plt.figure(figsize=(20,4))\n",
        "\n",
        "plt.subplot(131)\n",
        "plt.bar(emotionsList.keys(), emotionsList.values(), width)\n",
        "plt.title(\"Parasite - by screencap\")\n",
        "\n",
        "\n",
        "plt.subplot(132)\n",
        "plt.bar(synopsisDict.keys(), synopsisDict.values(), width)\n",
        "plt.title(\"Parasite - by synopsis\")\n",
        "\n",
        "plt.subplot(133)\n",
        "plt.bar(mixDict.keys(), mixDict.values(), width)\n",
        "plt.title(\"Parasite - combined results\")\n",
        "\n",
        "plt.show()"
      ],
      "metadata": {
        "colab": {
          "base_uri": "https://localhost:8080/",
          "height": 420
        },
        "id": "LOY-FnUaWwjw",
        "outputId": "d3428886-0081-4b2c-cb4f-b1b8578c7001"
      },
      "execution_count": null,
      "outputs": [
        {
          "output_type": "stream",
          "name": "stdout",
          "text": [
            "Emotion: angry Score: 5.227952442510286e-06\n",
            "Emotion: disgust Score: 2.748111738171133e-10\n",
            "Emotion: fear Score: 0.0005091319908387959\n",
            "Emotion: happy Score: 0.9963555335998535\n",
            "Emotion: sad Score: 0.003128120442852378\n",
            "Emotion: surprise Score: 2.468484296969109e-07\n",
            "Emotion: neutral Score: 1.7115764876507455e-06\n",
            "Most dominant Emotion: happy\n"
          ]
        },
        {
          "output_type": "display_data",
          "data": {
            "text/plain": [
              "<Figure size 1440x288 with 3 Axes>"
            ],
            "image/png": "[encoded data removed]"
          },
          "metadata": {
            "needs_background": "light"
          }
        }
      ]
    },
    {
      "cell_type": "code",
      "source": [
        "# Grab the pictures\n",
        "pictures = glob.glob(\"/content/drive/MyDrive/Colab/movie_stills/rushmore-1998-3773.png\")\n",
        "\n",
        "# set up the dictionary\n",
        "emotionsList = dict()\n",
        "for emo in obj['emotion'].keys():\n",
        "  emotionsList[emo] = 0\n",
        "dominantEmotion = list()\n",
        "\n",
        "# use deepFace to analyze the emotion from each image\n",
        "for picture in pictures:\n",
        "  obj = DeepFace.analyze(img_path = picture, actions = ['emotion'], enforce_detection=False)\n",
        "  for emo in obj['emotion'].keys():\n",
        "    emotionsList[emo]+=(obj['emotion'][emo])\n",
        "  dominantEmotion.append(obj['dominant_emotion'])\n",
        "\n",
        "for emotion in emotionsList.keys():\n",
        "  emotionsList[emotion]=(emotionsList[emotion]/len(pictures))/100\n",
        "  print(\"Emotion: {} Score: {}\".format(emotion,emotionsList[emotion]))\n",
        "\n",
        "\n",
        "# get the most dominant emotion\n",
        "max = emotionsList['angry']\n",
        "maxEmo = 'angry'\n",
        "for emo in emotionsList.keys():\n",
        "  if emotionsList[emo] > max:\n",
        "    max = emotionsList[emo]\n",
        "    maxEmo = emo\n",
        "print(\"Most dominant Emotion: {}\".format(maxEmo))\n",
        "\n",
        "\n",
        "\n",
        "# use text2emotion to get the emotion from the synopsis\n",
        "synopsis = \"When a beautiful first-grade teacher (Olivia Williams) arrives at a prep school, she soon attracts the attention of an ambitious teenager named Max (Jason Schwartzman), who quickly falls in love with her. Max turns to the father (Bill Murray) of two of his schoolmates for advice on how to woo the teacher. However, the situation soon gets complicated when Max's new friend becomes involved with her, setting the two pals against one another in a war for her attention.\"\n",
        "synopsisDict = te.get_emotion(synopsis)\n",
        "\n",
        "for emotion in synopsisDict.keys():\n",
        "  synopsisDict[emotion]=synopsisDict[emotion]\n",
        "\n",
        "\n",
        "\n",
        "# combine the results to get the main 5 emotions\n",
        "mixDict = {'Happy': 0, 'Angry': 0, 'Sad': 0, 'Surprise': 0, 'Fear': 0}\n",
        "mixDict['Happy'] = (emotionsList['happy']+synopsisDict['Happy'])/2\n",
        "mixDict['Angry'] = (emotionsList['angry']+synopsisDict['Angry'])/2\n",
        "mixDict['Sad'] = (emotionsList['sad']+synopsisDict['Sad'])/2\n",
        "mixDict['Surprise'] = (emotionsList['surprise']+synopsisDict['Surprise'])/2\n",
        "mixDict['Fear'] = (emotionsList['fear']+synopsisDict['Fear'])/2\n",
        "\n",
        "\n",
        "\n",
        "# show the results\n",
        "plt.figure(figsize=(20,4))\n",
        "\n",
        "plt.subplot(131)\n",
        "plt.bar(emotionsList.keys(), emotionsList.values(), width)\n",
        "plt.title(\"Rushmore - by screencap\")\n",
        "\n",
        "\n",
        "plt.subplot(132)\n",
        "plt.bar(synopsisDict.keys(), synopsisDict.values(), width)\n",
        "plt.title(\"Rushmore - by synopsis\")\n",
        "\n",
        "plt.subplot(133)\n",
        "plt.bar(mixDict.keys(), mixDict.values(), width)\n",
        "plt.title(\"Rushmore - combined results\")\n",
        "\n",
        "plt.show()"
      ],
      "metadata": {
        "colab": {
          "base_uri": "https://localhost:8080/",
          "height": 420
        },
        "id": "d6ZMr-KOWw-q",
        "outputId": "8de66bc5-8f17-4d67-d752-026446983a7c"
      },
      "execution_count": null,
      "outputs": [
        {
          "output_type": "stream",
          "name": "stdout",
          "text": [
            "Emotion: angry Score: 0.0495477169752121\n",
            "Emotion: disgust Score: 0.0005399502697400749\n",
            "Emotion: fear Score: 0.05740092694759369\n",
            "Emotion: happy Score: 0.0011851630406454206\n",
            "Emotion: sad Score: 0.21256126463413239\n",
            "Emotion: surprise Score: 8.051694021560252e-05\n",
            "Emotion: neutral Score: 0.6786844730377197\n",
            "Most dominant Emotion: neutral\n"
          ]
        },
        {
          "output_type": "display_data",
          "data": {
            "text/plain": [
              "<Figure size 1440x288 with 3 Axes>"
            ],
            "image/png": "[encoded data removed]"
          },
          "metadata": {
            "needs_background": "light"
          }
        }
      ]
    },
    {
      "cell_type": "code",
      "source": [
        "# Grab the pictures\n",
        "pictures = glob.glob(\"/content/drive/MyDrive/Colab/movie_stills/the-machinist-2004-5494.png\")\n",
        "\n",
        "# set up the dictionary\n",
        "emotionsList = dict()\n",
        "for emo in obj['emotion'].keys():\n",
        "  emotionsList[emo] = 0\n",
        "dominantEmotion = list()\n",
        "\n",
        "# use deepFace to analyze the emotion from each image\n",
        "for picture in pictures:\n",
        "  obj = DeepFace.analyze(img_path = picture, actions = ['emotion'], enforce_detection=False)\n",
        "  for emo in obj['emotion'].keys():\n",
        "    emotionsList[emo]+=(obj['emotion'][emo])\n",
        "  dominantEmotion.append(obj['dominant_emotion'])\n",
        "\n",
        "for emotion in emotionsList.keys():\n",
        "  emotionsList[emotion]=(emotionsList[emotion]/len(pictures))/100\n",
        "  print(\"Emotion: {} Score: {}\".format(emotion,emotionsList[emotion]))\n",
        "\n",
        "\n",
        "# get the most dominant emotion\n",
        "max = emotionsList['angry']\n",
        "maxEmo = 'angry'\n",
        "for emo in emotionsList.keys():\n",
        "  if emotionsList[emo] > max:\n",
        "    max = emotionsList[emo]\n",
        "    maxEmo = emo\n",
        "print(\"Most dominant Emotion: {}\".format(maxEmo))\n",
        "\n",
        "\n",
        "\n",
        "# use text2emotion to get the emotion from the synopsis\n",
        "synopsis = \"Factory worker Trevor Reznik (Christian Bale) suffers from insomnia so severe that his condition has taken its toll on his weight and his mental health. When Trevor unintentionally causes an on-the-job accident that horribly injures a coworker (Michael Ironside), he begins to become even more troubled. Despite a relationship with Stevie (Jennifer Jason Leigh), a pretty prostitute, Trevor descends further into paranoia, blaming his problems on an enigmatic figure named Ivan (John Sharian).\"\n",
        "synopsisDict = te.get_emotion(synopsis)\n",
        "\n",
        "for emotion in synopsisDict.keys():\n",
        "  synopsisDict[emotion]=synopsisDict[emotion]\n",
        "\n",
        "\n",
        "\n",
        "# combine the results to get the main 5 emotions\n",
        "mixDict = {'Happy': 0, 'Angry': 0, 'Sad': 0, 'Surprise': 0, 'Fear': 0}\n",
        "mixDict['Happy'] = (emotionsList['happy']+synopsisDict['Happy'])/2\n",
        "mixDict['Angry'] = (emotionsList['angry']+synopsisDict['Angry'])/2\n",
        "mixDict['Sad'] = (emotionsList['sad']+synopsisDict['Sad'])/2\n",
        "mixDict['Surprise'] = (emotionsList['surprise']+synopsisDict['Surprise'])/2\n",
        "mixDict['Fear'] = (emotionsList['fear']+synopsisDict['Fear'])/2\n",
        "\n",
        "\n",
        "\n",
        "# show the results\n",
        "plt.figure(figsize=(20,4))\n",
        "\n",
        "plt.subplot(131)\n",
        "plt.bar(emotionsList.keys(), emotionsList.values(), width)\n",
        "plt.title(\"The Machinist - by screencap\")\n",
        "\n",
        "\n",
        "plt.subplot(132)\n",
        "plt.bar(synopsisDict.keys(), synopsisDict.values(), width)\n",
        "plt.title(\"The Machinist - by synopsis\")\n",
        "\n",
        "plt.subplot(133)\n",
        "plt.bar(mixDict.keys(), mixDict.values(), width)\n",
        "plt.title(\"The Machinist - combined results\")\n",
        "\n",
        "plt.show()"
      ],
      "metadata": {
        "colab": {
          "base_uri": "https://localhost:8080/",
          "height": 420
        },
        "id": "aPamdXR1WxSC",
        "outputId": "8ed336e8-58da-49c3-dc91-0ad4b5cf365a"
      },
      "execution_count": null,
      "outputs": [
        {
          "output_type": "stream",
          "name": "stdout",
          "text": [
            "Emotion: angry Score: 1.3653615269504371e-06\n",
            "Emotion: disgust Score: 7.687840815340241e-12\n",
            "Emotion: fear Score: 0.7691404223442078\n",
            "Emotion: happy Score: 1.8707396742811966e-10\n",
            "Emotion: sad Score: 0.23085811734199524\n",
            "Emotion: surprise Score: 9.274632783981876e-16\n",
            "Emotion: neutral Score: 1.0054145604954101e-07\n",
            "Most dominant Emotion: fear\n"
          ]
        },
        {
          "output_type": "display_data",
          "data": {
            "text/plain": [
              "<Figure size 1440x288 with 3 Axes>"
            ],
            "image/png": "[encoded data removed]"
          },
          "metadata": {
            "needs_background": "light"
          }
        }
      ]
    },
    {
      "cell_type": "code",
      "source": [
        "# Grab the pictures\n",
        "pictures = glob.glob(\"/content/drive/MyDrive/Colab/movie_stills/there-will-be-blood-2007-14900.jpg\")\n",
        "\n",
        "# set up the dictionary\n",
        "emotionsList = dict()\n",
        "for emo in obj['emotion'].keys():\n",
        "  emotionsList[emo] = 0\n",
        "dominantEmotion = list()\n",
        "\n",
        "# use deepFace to analyze the emotion from each image\n",
        "for picture in pictures:\n",
        "  obj = DeepFace.analyze(img_path = picture, actions = ['emotion'], enforce_detection=False)\n",
        "  for emo in obj['emotion'].keys():\n",
        "    emotionsList[emo]+=(obj['emotion'][emo])\n",
        "  dominantEmotion.append(obj['dominant_emotion'])\n",
        "\n",
        "for emotion in emotionsList.keys():\n",
        "  emotionsList[emotion]=(emotionsList[emotion]/len(pictures))/100\n",
        "  print(\"Emotion: {} Score: {}\".format(emotion,emotionsList[emotion]))\n",
        "\n",
        "\n",
        "# get the most dominant emotion\n",
        "max = emotionsList['angry']\n",
        "maxEmo = 'angry'\n",
        "for emo in emotionsList.keys():\n",
        "  if emotionsList[emo] > max:\n",
        "    max = emotionsList[emo]\n",
        "    maxEmo = emo\n",
        "print(\"Most dominant Emotion: {}\".format(maxEmo))\n",
        "\n",
        "\n",
        "\n",
        "# use text2emotion to get the emotion from the synopsis\n",
        "synopsis = \"Ruthless silver miner, turned oil prospector, Daniel Plainview moves to oil-rich California. Using his adopted son HW to project a trustworthy, family-man image, Plainview cons local landowners into selling him their valuable properties for a pittance. However, local preacher Eli Sunday suspects Plainviews motives and intentions, starting a slow-burning feud that threatens both their lives.\"\n",
        "synopsisDict = te.get_emotion(synopsis)\n",
        "\n",
        "for emotion in synopsisDict.keys():\n",
        "  synopsisDict[emotion]=synopsisDict[emotion]\n",
        "\n",
        "\n",
        "\n",
        "# combine the results to get the main 5 emotions\n",
        "mixDict = {'Happy': 0, 'Angry': 0, 'Sad': 0, 'Surprise': 0, 'Fear': 0}\n",
        "mixDict['Happy'] = (emotionsList['happy']+synopsisDict['Happy'])/2\n",
        "mixDict['Angry'] = (emotionsList['angry']+synopsisDict['Angry'])/2\n",
        "mixDict['Sad'] = (emotionsList['sad']+synopsisDict['Sad'])/2\n",
        "mixDict['Surprise'] = (emotionsList['surprise']+synopsisDict['Surprise'])/2\n",
        "mixDict['Fear'] = (emotionsList['fear']+synopsisDict['Fear'])/2\n",
        "\n",
        "\n",
        "\n",
        "# show the results\n",
        "plt.figure(figsize=(20,4))\n",
        "\n",
        "plt.subplot(131)\n",
        "plt.bar(emotionsList.keys(), emotionsList.values(), width)\n",
        "plt.title(\"There Will Be Blood - by screencap\")\n",
        "\n",
        "\n",
        "plt.subplot(132)\n",
        "plt.bar(synopsisDict.keys(), synopsisDict.values(), width)\n",
        "plt.title(\"There Will Be Blood - by synopsis\")\n",
        "\n",
        "plt.subplot(133)\n",
        "plt.bar(mixDict.keys(), mixDict.values(), width)\n",
        "plt.title(\"There Will Be Blood - combined results\")\n",
        "\n",
        "plt.show()"
      ],
      "metadata": {
        "colab": {
          "base_uri": "https://localhost:8080/",
          "height": 420
        },
        "id": "Jfc3rMV0Wxpf",
        "outputId": "409c4c17-4ce1-4f1f-aff6-2cfae1bf6676"
      },
      "execution_count": null,
      "outputs": [
        {
          "output_type": "stream",
          "name": "stdout",
          "text": [
            "Emotion: angry Score: 0.006283255111665142\n",
            "Emotion: disgust Score: 5.0779655480974735e-06\n",
            "Emotion: fear Score: 0.01763358363611503\n",
            "Emotion: happy Score: 4.067006496434875e-05\n",
            "Emotion: sad Score: 0.960465664919098\n",
            "Emotion: surprise Score: 5.486674325902074e-06\n",
            "Emotion: neutral Score: 0.015566319220223335\n",
            "Most dominant Emotion: sad\n"
          ]
        },
        {
          "output_type": "display_data",
          "data": {
            "text/plain": [
              "<Figure size 1440x288 with 3 Axes>"
            ],
            "image/png": "[encoded data removed]"
          },
          "metadata": {
            "needs_background": "light"
          }
        }
      ]
    },
    {
      "cell_type": "code",
      "source": [
        "# Grab the pictures\n",
        "pictures = glob.glob(\"/content/drive/MyDrive/Colab/moist.jpg\")\n",
        "\n",
        "# set up the dictionary\n",
        "emotionsList = dict()\n",
        "for emo in obj['emotion'].keys():\n",
        "  emotionsList[emo] = 0\n",
        "dominantEmotion = list()\n",
        "\n",
        "# use deepFace to analyze the emotion from each image\n",
        "for picture in pictures:\n",
        "  obj = DeepFace.analyze(img_path = picture, actions = ['emotion'], enforce_detection=False)\n",
        "  for emo in obj['emotion'].keys():\n",
        "    emotionsList[emo]+=(obj['emotion'][emo])\n",
        "  dominantEmotion.append(obj['dominant_emotion'])\n",
        "\n",
        "for emotion in emotionsList.keys():\n",
        "  emotionsList[emotion]=(emotionsList[emotion]/len(pictures))/100\n",
        "  print(\"Emotion: {} Score: {}\".format(emotion,emotionsList[emotion]))\n",
        "\n",
        "\n",
        "# get the most dominant emotion\n",
        "max = emotionsList['angry']\n",
        "maxEmo = 'angry'\n",
        "for emo in emotionsList.keys():\n",
        "  if emotionsList[emo] > max:\n",
        "    max = emotionsList[emo]\n",
        "    maxEmo = emo\n",
        "print(\"Most dominant Emotion: {}\".format(maxEmo))\n",
        "\n",
        "\n",
        "\n",
        "# use text2emotion to get the emotion from the synopsis\n",
        "synopsis = \"A long haired man showing mock happiness for a child's toy. He is overexagerating how happy he is.\"\n",
        "synopsisDict = te.get_emotion(synopsis)\n",
        "\n",
        "for emotion in synopsisDict.keys():\n",
        "  synopsisDict[emotion]=synopsisDict[emotion]\n",
        "\n",
        "\n",
        "\n",
        "# combine the results to get the main 5 emotions\n",
        "mixDict = {'Happy': 0, 'Angry': 0, 'Sad': 0, 'Surprise': 0, 'Fear': 0}\n",
        "mixDict['Happy'] = (emotionsList['happy']+synopsisDict['Happy'])/2\n",
        "mixDict['Angry'] = (emotionsList['angry']+synopsisDict['Angry'])/2\n",
        "mixDict['Sad'] = (emotionsList['sad']+synopsisDict['Sad'])/2\n",
        "mixDict['Surprise'] = (emotionsList['surprise']+synopsisDict['Surprise'])/2\n",
        "mixDict['Fear'] = (emotionsList['fear']+synopsisDict['Fear'])/2\n",
        "\n",
        "\n",
        "\n",
        "# show the results\n",
        "plt.figure(figsize=(20,4))\n",
        "\n",
        "plt.subplot(131)\n",
        "plt.bar(emotionsList.keys(), emotionsList.values(), width)\n",
        "plt.title(\"Moist - by screencap\")\n",
        "\n",
        "\n",
        "plt.subplot(132)\n",
        "plt.bar(synopsisDict.keys(), synopsisDict.values(), width)\n",
        "plt.title(\"Moist - by synopsis\")\n",
        "\n",
        "plt.subplot(133)\n",
        "plt.bar(mixDict.keys(), mixDict.values(), width)\n",
        "plt.title(\"Moist - combined results\")\n",
        "\n",
        "plt.show()"
      ],
      "metadata": {
        "id": "uREWChB2YtOO",
        "colab": {
          "base_uri": "https://localhost:8080/",
          "height": 420
        },
        "outputId": "36d90c48-a946-42b2-d20d-b4c5fc6c53ff"
      },
      "execution_count": null,
      "outputs": [
        {
          "output_type": "stream",
          "name": "stdout",
          "text": [
            "Emotion: angry Score: 0.010344062000513077\n",
            "Emotion: disgust Score: 2.0578202963861258e-07\n",
            "Emotion: fear Score: 0.0005300623015500605\n",
            "Emotion: happy Score: 1.8122209439752623e-05\n",
            "Emotion: sad Score: 0.9890934228897095\n",
            "Emotion: surprise Score: 7.617497604917034e-11\n",
            "Emotion: neutral Score: 1.416010309185367e-05\n",
            "Most dominant Emotion: sad\n"
          ]
        },
        {
          "output_type": "display_data",
          "data": {
            "text/plain": [
              "<Figure size 1440x288 with 3 Axes>"
            ],
            "image/png": "[encoded data removed]"
          },
          "metadata": {
            "needs_background": "light"
          }
        }
      ]
    },
    {
      "cell_type": "code",
      "source": [
        ""
      ],
      "metadata": {
        "id": "H1cwxYmpIRFZ"
      },
      "execution_count": null,
      "outputs": []
    }
  ]
}